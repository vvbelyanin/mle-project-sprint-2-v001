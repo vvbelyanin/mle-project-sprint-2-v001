{
 "cells": [
  {
   "cell_type": "code",
   "execution_count": null,
   "metadata": {},
   "outputs": [],
   "source": [
    "# категориальные\n",
    "group_cat = ['is_apartment', 'has_elevator', 'rooms', 'building_type_int'] \n",
    "# высококардинальные категориальные, или количественные, ассимметричные \n",
    "group_num_floors = ['floor', 'floors_total', 'ceiling_height', 'flats_count'] \n",
    "# количественные, ассимметричные\n",
    "group_num_area = ['kitchen_area','living_area','total_area'] \n",
    "# количественные \n",
    "group_num_geo = ['latitude', 'longitude'] \n",
    "# временной ряд\n",
    "group_num_date = ['building_id','build_year'] \n",
    "# новые \n",
    "group_new = ['distance']"
   ]
  },
  {
   "cell_type": "code",
   "execution_count": null,
   "metadata": {},
   "outputs": [],
   "source": [
    "def delete_all_combinations_metrics(data, exclude_cols, sort='rmse'):\n",
    "    def all_combinations(iterable):\n",
    "        unique_subsets = set()\n",
    "        for r in range(len(iterable)+1):\n",
    "            for subset in combinations(iterable, r):\n",
    "                unique_subsets.add(subset)\n",
    "        return unique_subsets\n",
    "        \n",
    "    x_train, y_train, x_val, y_val = data\n",
    "    comb_list = list(all_combinations(exclude_cols))\n",
    "\n",
    "    df_res = pd.DataFrame(columns=['mae', 'rmse', 'r2', 'rest_columns'])\n",
    "    df_res.index.name='removed_columns'\n",
    "\n",
    "    for exclude_subset in tqdm(comb_list, total=len(comb_list), colour='blue'):\n",
    "        include_cols = [col for col in x_train.columns if col not in exclude_subset]\n",
    "        subset = x_train[include_cols], y_train, x_val[include_cols], y_val\n",
    "        metrics = get_metrics(subset)\n",
    "        metrics['rest_columns'] =  tuple(col for col in exclude_cols if col not in exclude_subset)\n",
    "        df_res.loc[str(exclude_subset)] = metrics\n",
    "    \n",
    "    return df_res.sort_values(by=sort)\n",
    "\n",
    "data = X_train, y_train, X_val, y_val\n",
    "delete_all_combinations_metrics(data, exclude_cols=group_cat + group_new, sort='rmse')"
   ]
  },
  {
   "cell_type": "code",
   "execution_count": null,
   "metadata": {},
   "outputs": [],
   "source": []
  }
 ],
 "metadata": {
  "language_info": {
   "name": "python"
  }
 },
 "nbformat": 4,
 "nbformat_minor": 2
}
