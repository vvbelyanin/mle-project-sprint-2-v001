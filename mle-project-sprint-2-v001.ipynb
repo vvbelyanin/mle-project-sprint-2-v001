{
 "cells": [
  {
   "cell_type": "code",
   "execution_count": 11,
   "metadata": {},
   "outputs": [
    {
     "name": "stdout",
     "output_type": "stream",
     "text": [
      "sklearn version: 1.4.0\n",
      "CPU times: user 141 µs, sys: 32 µs, total: 173 µs\n",
      "Wall time: 164 µs\n"
     ]
    }
   ],
   "source": [
    "%%time\n",
    "import os\n",
    "#import pandas as pd\n",
    "#import numpy as np\n",
    "import psycopg\n",
    "import mlflow\n",
    "\n",
    "from pgsqlconn import fetch_data\n",
    "from my_helpers import print_types, transform_data\n",
    "\n",
    "#from sklearn.model_selection import StratifiedKFold\n",
    "#import optuna\n",
    "#from optuna.integration import MLflowCallback\n",
    "#from collections import defaultdict\n",
    "#from statistics import median\n",
    "#from numpy import array\n",
    "\n",
    "#from catboost import CatBoostClassifier\n",
    "#from sklearn.model_selection import train_test_split, GridSearchCV, RandomizedSearchCV\n",
    "#from sklearn.metrics import roc_auc_score, roc_curve, precision_score, recall_score, f1_score, confusion_matrix, log_loss\n",
    "\n",
    "#!pip install optuna==3.4.0\n",
    "#!pip install mlflow==2.7.1\n",
    "\n",
    "import yaml\n",
    "import os\n",
    "import joblib\n",
    "import json\n",
    "\n",
    "#!pip show scikit-learn # Version: 1.3.1\n",
    "#!pip install scikit-learn==1.4.0\n",
    "import sklearn\n",
    "print('sklearn version:', sklearn.__version__)"
   ]
  },
  {
   "cell_type": "code",
   "execution_count": 15,
   "metadata": {},
   "outputs": [
    {
     "data": {
      "text/plain": [
       "(9, 2, 6)"
      ]
     },
     "execution_count": 15,
     "metadata": {},
     "output_type": "execute_result"
    }
   ],
   "source": [
    "def load_data(path, loader):\n",
    "    with open(path, 'r') as file:\n",
    "        return  loader(file)\n",
    "\n",
    "project_path = './mle-project-sprint-2-v001/mlflow_server'\n",
    "path_to_params = project_path + '/models/params.yaml'\n",
    "path_to_model = project_path + '/models/fitted_model.pkl'\n",
    "path_to_results = project_path + '/results/cv_res.json'\n",
    "\n",
    "params = load_data(path_to_params, yaml.safe_load)\n",
    "model = joblib.load(path_to_model)\n",
    "results = load_data(path_to_results, json.load)\n",
    "len(params), len(model), len(results)"
   ]
  },
  {
   "cell_type": "code",
   "execution_count": 16,
   "metadata": {},
   "outputs": [
    {
     "name": "stdout",
     "output_type": "stream",
     "text": [
      "TABLE_NAME: clean_flats\n",
      "EXPERIMENT_NAME: Спринт 3/9: 2 спринт → Тема 5/5: Проект\n",
      "RUN_NAME: ETL\n",
      "REGISTRY_MODEL_NAME: model_sprint_2\n"
     ]
    }
   ],
   "source": [
    "def get_global():\n",
    "    print(f'TABLE_NAME: {TABLE_NAME}')\n",
    "    print(f'EXPERIMENT_NAME: {EXPERIMENT_NAME}')\n",
    "    print(f'RUN_NAME: {RUN_NAME}')\n",
    "    print(f'REGISTRY_MODEL_NAME: {REGISTRY_MODEL_NAME}')\n",
    "\n",
    "TABLE_NAME = \"clean_flats\"\n",
    "REGISTRY_MODEL_NAME = 'model_sprint_2'\n",
    "EXPERIMENT_NAME = 'Спринт 3/9: 2 спринт → Тема 5/5: Проект'\n",
    "RUN_NAME = \"ETL\"\n",
    "\n",
    "get_global()"
   ]
  },
  {
   "cell_type": "code",
   "execution_count": 17,
   "metadata": {},
   "outputs": [
    {
     "name": "stdout",
     "output_type": "stream",
     "text": [
      "Data types of clean_flats:\n",
      "  int64 (12):\n",
      "    - id, floor, is_apartment, rooms, price\n",
      "    - building_id, build_year, building_type_int, flats_count, floors_total\n",
      "    - has_elevator, flat_id\n",
      "  float64 (6):\n",
      "    - kitchen_area, living_area, total_area, latitude, longitude\n",
      "    - ceiling_height\n"
     ]
    }
   ],
   "source": [
    "df = fetch_data(TABLE_NAME)\n",
    "#df = transform_data(df)\n",
    "print_types(df, TABLE_NAME)"
   ]
  },
  {
   "cell_type": "code",
   "execution_count": 6,
   "metadata": {},
   "outputs": [],
   "source": [
    "mlflow.set_tracking_uri(os.getenv('TRACKING_SERVER_CONN'))"
   ]
  },
  {
   "cell_type": "code",
   "execution_count": 7,
   "metadata": {},
   "outputs": [],
   "source": [
    "from mlflow.utils.mlflow_tags import MLFLOW_PARENT_RUN_ID"
   ]
  },
  {
   "cell_type": "code",
   "execution_count": 8,
   "metadata": {},
   "outputs": [
    {
     "name": "stderr",
     "output_type": "stream",
     "text": [
      "<timed exec>:68: ExperimentalWarning: MLflowCallback is experimental (supported from v1.4.0). The interface can change in the future.\n",
      "[I 2024-04-24 13:41:45,701] Using an existing study with name 'churn_model' instead of creating a new one.\n",
      "[I 2024-04-24 13:41:47,472] Trial 132 finished with value: 0.8181092895880762 and parameters: {'learning_rate': 0.057647231745658424, 'depth': 1, 'l2_leaf_reg': 3.4447367334736443, 'random_strength': 4.664390244724367}. Best is trial 108 with value: 0.8273315781718285.\n",
      "[I 2024-04-24 13:41:49,360] Trial 133 finished with value: 0.821568517599551 and parameters: {'learning_rate': 0.04338721214889323, 'depth': 3, 'l2_leaf_reg': 3.1885961991058323, 'random_strength': 4.355040569167024}. Best is trial 108 with value: 0.8273315781718285.\n",
      "[I 2024-04-24 13:41:51,217] Trial 134 finished with value: 0.8223877330091818 and parameters: {'learning_rate': 0.04959568216807987, 'depth': 2, 'l2_leaf_reg': 3.717864694116411, 'random_strength': 4.533215773549718}. Best is trial 108 with value: 0.8273315781718285.\n",
      "[I 2024-04-24 13:41:53,478] Trial 135 finished with value: 0.8196821614209511 and parameters: {'learning_rate': 0.033872093830756685, 'depth': 2, 'l2_leaf_reg': 3.2949287972302663, 'random_strength': 4.818496316710529}. Best is trial 108 with value: 0.8273315781718285.\n",
      "[I 2024-04-24 13:41:55,054] Trial 136 finished with value: 0.8221700484266701 and parameters: {'learning_rate': 0.03827720200440121, 'depth': 3, 'l2_leaf_reg': 3.1397273678413966, 'random_strength': 4.7099085608627105}. Best is trial 108 with value: 0.8273315781718285.\n",
      "[I 2024-04-24 13:41:56,615] Trial 137 finished with value: 0.8193553772521689 and parameters: {'learning_rate': 0.07120183557771537, 'depth': 1, 'l2_leaf_reg': 3.388847460865936, 'random_strength': 4.992862070880174}. Best is trial 108 with value: 0.8273315781718285.\n",
      "[I 2024-04-24 13:41:58,268] Trial 138 finished with value: 0.8217184034831995 and parameters: {'learning_rate': 0.054128535944827486, 'depth': 2, 'l2_leaf_reg': 3.5173482314427935, 'random_strength': 4.60765100249257}. Best is trial 108 with value: 0.8273315781718285.\n",
      "[I 2024-04-24 13:42:00,716] Trial 139 finished with value: 0.8213504518954134 and parameters: {'learning_rate': 0.0608807525211031, 'depth': 2, 'l2_leaf_reg': 3.007200989320052, 'random_strength': 4.483973706939107}. Best is trial 108 with value: 0.8273315781718285.\n",
      "[I 2024-04-24 13:42:02,996] Trial 140 finished with value: 0.8151558357577349 and parameters: {'learning_rate': 0.0442834190037527, 'depth': 1, 'l2_leaf_reg': 3.21216410606578, 'random_strength': 4.887105133750765}. Best is trial 108 with value: 0.8273315781718285.\n",
      "[I 2024-04-24 13:42:05,147] Trial 141 finished with value: 0.8164825816713526 and parameters: {'learning_rate': 0.08489802524237168, 'depth': 3, 'l2_leaf_reg': 3.5882301387875315, 'random_strength': 4.287344781403067}. Best is trial 108 with value: 0.8273315781718285.\n"
     ]
    },
    {
     "name": "stdout",
     "output_type": "stream",
     "text": [
      "Number of finished trials: 142\n",
      "Best params: {'learning_rate': 0.0873446334064004, 'depth': 1, 'l2_leaf_reg': 3.6987968672196763, 'random_strength': 1.9133151232051957}\n",
      "CPU times: user 15.2 s, sys: 2.57 s, total: 17.7 s\n",
      "Wall time: 20.8 s\n"
     ]
    }
   ],
   "source": [
    "%%time\n",
    "features = [\"monthly_charges\", \"total_charges\", \"senior_citizen\"]\n",
    "target = \"target\"\n",
    "test_size = 0.2\n",
    "\n",
    "X_train, X_test, y_train, y_test = train_test_split(df[features], df[target], test_size=test_size, stratify=df[target], shuffle=True)\n",
    "\n",
    "def objective(trial: optuna.Trial) -> float:\n",
    "    param = {\n",
    "        \"learning_rate\": trial.suggest_float(\"learning_rate\", 0.001, 0.1, log=True),\n",
    "        \"depth\": trial.suggest_int(\"depth\", 1, 12),\n",
    "        \"l2_leaf_reg\": trial.suggest_float(\"l2_leaf_reg\", 0.1, 5),\n",
    "        \"random_strength\": trial.suggest_float(\"random_strength\", 0.1, 5),\n",
    "        \"loss_function\": \"Logloss\",\n",
    "        \"task_type\": \"CPU\",\n",
    "        \"random_seed\": 0,\n",
    "        \"iterations\": 300,\n",
    "        \"verbose\": False,\n",
    "    }\n",
    " \n",
    "    model = CatBoostClassifier(**param)\n",
    "    skf = StratifiedKFold(n_splits=2)\n",
    "    metrics = defaultdict(list)\n",
    "\n",
    "    for i, (train_index, val_index) in enumerate(skf.split(X_train, y_train)):\n",
    "        train_x = X_train.iloc[train_index]\n",
    "        train_y = y_train.iloc[train_index]\n",
    "        val_x = X_train.iloc[val_index]\n",
    "        val_y = y_train.iloc[val_index]\n",
    "\n",
    "        model.fit(train_x, train_y)\n",
    "        prediction = model.predict(val_x)\n",
    "        probas = model.predict_proba(val_x)[:, 1]\n",
    "        _, err1, _, err2 = confusion_matrix(val_y, prediction, normalize='all').ravel()\n",
    "        auc = roc_auc_score(val_y, probas)\n",
    "        precision = precision_score(val_y, prediction)\n",
    "        recall = recall_score(val_y, prediction)\n",
    "        f1 = f1_score(val_y, prediction)\n",
    "        logloss = log_loss(val_y, prediction)\n",
    "        metrics[\"err1\"].append(err1)\n",
    "        metrics[\"err2\"].append(err2)\n",
    "        metrics[\"auc\"].append(auc)\n",
    "        metrics[\"precision\"].append(precision)\n",
    "        metrics[\"recall\"].append(recall)\n",
    "        metrics[\"f1\"].append(f1)\n",
    "        metrics[\"logloss\"].append(logloss)\n",
    "\n",
    "    err_1 = median(array(metrics['err1']))\n",
    "    err_2 = median(array(metrics['err2']))\n",
    "    auc = median(array(metrics['auc']))\n",
    "    precision = median(array(metrics['precision']))\n",
    "    recall = median(array(metrics['recall']))\n",
    "    f1 = median(array(metrics['f1']))\n",
    "    logloss = median(array(metrics['logloss']))\n",
    "\n",
    "    return auc\n",
    "\n",
    "\n",
    "experiment = mlflow.get_experiment_by_name(EXPERIMENT_NAME)\n",
    "if not experiment:\n",
    "    experiment_id = mlflow.create_experiment(EXPERIMENT_NAME)\n",
    "else:\n",
    "    experiment_id = experiment.experiment_id\n",
    "    \n",
    "\n",
    "with mlflow.start_run(run_name=RUN_NAME, experiment_id=experiment_id) as run:\n",
    "    run_id = run.info.run_id\n",
    "\n",
    "mlflc = MLflowCallback(\n",
    "    tracking_uri=os.getenv('TRACKING_SERVER_CONN'),\n",
    "    metric_name=\"AUC\",\n",
    "    create_experiment=False,\n",
    "    mlflow_kwargs={'experiment_id': experiment_id, 'tags': {MLFLOW_PARENT_RUN_ID: run_id}}\n",
    "    #mlflow_kwargs={'experiment_id': experiment_id, MLFLOW_PARENT_RUN_ID: run_id}\n",
    ")\n",
    "\n",
    "study = optuna.create_study(direction='maximize', \n",
    "                            study_name=STUDY_NAME, storage=STUDY_DB_NAME, \n",
    "                            load_if_exists=True,\n",
    "                            sampler=optuna.samplers.TPESampler())\n",
    "\n",
    "study.optimize(objective, n_trials=10, callbacks=[mlflc])\n",
    "\n",
    "best_params = study.best_params\n",
    "\n",
    "print(f\"Number of finished trials: {len(study.trials)}\")\n",
    "print(f\"Best params: {best_params}\")\n",
    "print(run_id)"
   ]
  },
  {
   "cell_type": "code",
   "execution_count": 10,
   "metadata": {},
   "outputs": [
    {
     "name": "stderr",
     "output_type": "stream",
     "text": [
      "/home/mle-user/mle-project/mle-mlflow/.venv_mle_mlflow/lib/python3.10/site-packages/mlflow/types/utils.py:394: UserWarning: Hint: Inferred schema contains integer column(s). Integer columns in Python cannot represent missing values. If your input data contains missing values at inference time, it will be encoded as floats and will cause a schema enforcement error. The best way to avoid this problem is to infer the model schema based on a realistic data sample (training dataset) that includes missing values. Alternatively, you can declare integer columns as doubles (float64) whenever these columns may have missing values. See `Handling Integers With Missing Values <https://www.mlflow.org/docs/latest/models.html#handling-integers-with-missing-values>`_ for more details.\n",
      "  warnings.warn(\n",
      "2024/04/24 13:42:16 WARNING mlflow.utils.requirements_utils: Detected one or more mismatches between the model's dependencies and the current Python environment:\n",
      " - mlflow (current: 2.12.1, required: mlflow==2.7.1)\n",
      "To fix the mismatches, call `mlflow.pyfunc.get_model_dependencies(model_uri)` to fetch the model's environment and install dependencies using the resulting environment file.\n",
      "Registered model 'CBClf_tuning' already exists. Creating a new version of this model...\n",
      "2024/04/24 13:42:17 INFO mlflow.store.model_registry.abstract_store: Waiting up to 60 seconds for model version to finish creation. Model name: CBClf_tuning, version 12\n",
      "Created version '12' of model 'CBClf_tuning'.\n"
     ]
    }
   ],
   "source": [
    "param = {\n",
    "    \"loss_function\": \"Logloss\",\n",
    "    \"task_type\": \"CPU\",\n",
    "    \"random_seed\": 0,\n",
    "    \"iterations\": 300,\n",
    "    \"verbose\": False,\n",
    "}\n",
    "param.update(best_params)\n",
    "\n",
    "model_best = CatBoostClassifier(**param)\n",
    "\n",
    "model_best.fit(X_train, y_train)\n",
    "prediction = model_best.predict(X_test)\n",
    "probas = model_best.predict_proba(X_test)[:, 1]\n",
    "\n",
    "metrics = {}\n",
    "_, metrics[\"err1\"], _, metrics[\"err2\"] = confusion_matrix(y_test, prediction, normalize='all').ravel()\n",
    "metrics[\"auc\"] = roc_auc_score(y_test, probas)\n",
    "metrics[\"precision\"] =  precision_score(y_test, prediction)\n",
    "metrics[\"recall\"] = recall_score(y_test, prediction)\n",
    "metrics[\"f1\"] = f1_score(y_test, prediction)\n",
    "metrics[\"logloss\"] = log_loss(y_test, prediction)\n",
    "\n",
    "pip_requirements = 'requirements.txt'\n",
    "signature = signature = mlflow.models.infer_signature(X_test, prediction)\n",
    "input_example = X_test[:10]\n",
    "\n",
    "with mlflow.start_run(run_id=run_id) as run:\n",
    "#    run_id = run.info.run_id\n",
    "    model_info = mlflow.catboost.log_model(\n",
    "        cb_model=model_best,\n",
    "        input_example=input_example,\n",
    "        #artifact_path=\"models\",\n",
    "        artifact_path=\"cv\",\n",
    "        registered_model_name=REGISTRY_MODEL_NAME,\n",
    "        signature=signature,\n",
    "        await_registration_for=60,\n",
    "        pip_requirements=pip_requirements)\n",
    "    mlflow.sklearn.log_model(model_best, \"cv\", signature=signature)\n",
    "    mlflow.log_metrics(metrics)\n",
    "    mlflow.log_params(best_params)\n",
    "    mlflow.set_tag(\"Training Info\", \"Tuning hyperparameters of CatBoostClassifier + Optuna + TPE\") "
   ]
  },
  {
   "cell_type": "code",
   "execution_count": 59,
   "metadata": {},
   "outputs": [
    {
     "data": {
      "text/plain": [
       "<Run: data=<RunData: metrics={'AUC': 0.8209890619263405}, params={'depth': '4',\n",
       " 'l2_leaf_reg': '4.9559340801613185',\n",
       " 'learning_rate': '0.004658938745949589',\n",
       " 'random_strength': '0.31802107073453'}, tags={'datetime_complete': '2024-04-24 12:47:59.101677',\n",
       " 'datetime_start': '2024-04-24 12:47:57.637569',\n",
       " 'depth_distribution': 'IntDistribution(high=12, log=False, low=1, step=1)',\n",
       " 'direction': 'MAXIMIZE',\n",
       " 'l2_leaf_reg_distribution': 'FloatDistribution(high=5.0, log=False, low=0.1, '\n",
       "                             'step=None)',\n",
       " 'learning_rate_distribution': 'FloatDistribution(high=0.1, log=True, '\n",
       "                               'low=0.001, step=None)',\n",
       " 'mlflow.parentRunId': '0fc7e50678e848b1b912ebeed5030e97',\n",
       " 'mlflow.runName': '42',\n",
       " 'mlflow.source.name': '/home/mle-user/mle-project/mle-mlflow/.venv_mle_mlflow/lib/python3.10/site-packages/ipykernel_launcher.py',\n",
       " 'mlflow.source.type': 'LOCAL',\n",
       " 'mlflow.user': 'mle-user',\n",
       " 'number': '42',\n",
       " 'random_strength_distribution': 'FloatDistribution(high=5.0, log=False, '\n",
       "                                 'low=0.1, step=None)',\n",
       " 'state': 'COMPLETE'}>, info=<RunInfo: artifact_uri='s3://s3-student-mle-20240325-4062b25c06/9/0fc7e50678e848b1b912ebeed5030e97/artifacts', end_time=1713963107299, experiment_id='9', lifecycle_stage='active', run_id='0fc7e50678e848b1b912ebeed5030e97', run_name='42', run_uuid='0fc7e50678e848b1b912ebeed5030e97', start_time=1713962879159, status='FINISHED', user_id='mle-user'>, inputs=<RunInputs: dataset_inputs=[]>>"
      ]
     },
     "execution_count": 59,
     "metadata": {},
     "output_type": "execute_result"
    }
   ],
   "source": [
    "run = mlflow.get_run('0fc7e50678e848b1b912ebeed5030e97')\n",
    "with mlflow.start_run(run_id=run.info.run_uuid):\n",
    "#    mlflow.set_tag(MLFLOW_PARENT_RUN_ID, run.info.run_uuid)\n",
    "    ...\n",
    "run"
   ]
  }
 ],
 "metadata": {
  "kernelspec": {
   "display_name": ".venv_mle_mlflow",
   "language": "python",
   "name": "python3"
  },
  "language_info": {
   "codemirror_mode": {
    "name": "ipython",
    "version": 3
   },
   "file_extension": ".py",
   "mimetype": "text/x-python",
   "name": "python",
   "nbconvert_exporter": "python",
   "pygments_lexer": "ipython3",
   "version": "3.10.12"
  }
 },
 "nbformat": 4,
 "nbformat_minor": 2
}
