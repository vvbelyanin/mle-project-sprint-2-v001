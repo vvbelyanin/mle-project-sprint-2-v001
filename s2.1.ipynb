{
 "cells": [
  {
   "cell_type": "code",
   "execution_count": 12,
   "metadata": {},
   "outputs": [],
   "source": [
    "import mlflow\n",
    "import yaml\n",
    "import os\n",
    "import joblib\n",
    "import json\n",
    "import pandas as pd\n",
    "import requests\n",
    "\n",
    "from pgsqlconn import fetch_data\n",
    "from my_helpers import print_types, transform_data\n",
    "\n",
    "def load_data(path, loader):\n",
    "    with open(path, 'r') as file:\n",
    "        return  loader(file)\n",
    "\n",
    "def check_mlflow_server(url):\n",
    "    try:\n",
    "        response = requests.get(url)\n",
    "        if response.status_code == 200:\n",
    "            print(\"MLFlow server is running.\")\n",
    "            return True\n",
    "        else:\n",
    "            print(\"MLFlow server returned a status:\", response.status_code)\n",
    "            return False\n",
    "    except requests.exceptions.ConnectionError:\n",
    "        print(\"Failed to connect to the MLFlow server.\")\n",
    "        return False\n",
    "\n",
    "project_path = './mlflow_server'\n",
    "path_to_params = project_path + '/models/params.yaml'\n",
    "path_to_model = project_path + '/models/fitted_model.pkl'\n",
    "path_to_metrics = project_path + '/results/cv_res.json'\n",
    "\n",
    "params = load_data(path_to_params, yaml.safe_load)\n",
    "model = joblib.load(path_to_model)\n",
    "metrics = load_data(path_to_metrics, json.load)\n",
    "X_test = pd.read_csv(project_path + '/data/x_test.csv')\n",
    "\n",
    "TABLE_NAME = \"clean_flats\"\n",
    "REGISTRY_MODEL_NAME = 'model_sprint_2'\n",
    "EXPERIMENT_NAME = 'Спринт 3/9: 2 спринт → Тема 5/5: Проект'\n",
    "RUN_NAME = \"ETL\"\n",
    "\n",
    "if check_mlflow_server(os.getenv('TRACKING_SERVER_CONN')):\n",
    "    mlflow.set_tracking_uri(os.getenv('TRACKING_SERVER_CONN'))\n",
    "\n",
    "    prediction = model.predict(X_test)\n",
    "    pip_requirements = 'requirements.txt'\n",
    "    signature = mlflow.models.infer_signature(X_test, prediction)\n",
    "    input_example = X_test[:10]\n",
    "\n",
    "    experiment = mlflow.get_experiment_by_name(EXPERIMENT_NAME)\n",
    "    if not experiment:\n",
    "        experiment_id = mlflow.create_experiment(EXPERIMENT_NAME)\n",
    "    else:\n",
    "        experiment_id = experiment.experiment_id\n",
    "\n",
    "    with mlflow.start_run(run_name=RUN_NAME, experiment_id=experiment_id) as run:\n",
    "        run_id = run.info.run_id\n",
    "        mlflow.sklearn.log_model(sk_model=model, \n",
    "            artifact_path='models', \n",
    "            registered_model_name=REGISTRY_MODEL_NAME, \n",
    "            signature=signature, \n",
    "            input_example = input_example, \n",
    "            await_registration_for=60, \n",
    "            pip_requirements=pip_requirements\n",
    "            )\n",
    "        mlflow.log_metrics(metrics)\n",
    "        mlflow.log_params(params)\n",
    "\n",
    "    experiment = mlflow.get_experiment_by_name(EXPERIMENT_NAME)\n",
    "    run = mlflow.get_run(run_id)\n",
    "\n",
    "    print(f'Experiment \"{experiment.name}\" stage: {experiment.lifecycle_stage}')\n",
    "    print(f'Run \"{run.info.run_name}\", id={run.info.run_id} status: {run.info.status}')"
   ]
  },
  {
   "cell_type": "code",
   "execution_count": 87,
   "metadata": {},
   "outputs": [
    {
     "name": "stdout",
     "output_type": "stream",
     "text": [
      "MLFlow server is running.\n"
     ]
    }
   ],
   "source": []
  },
  {
   "cell_type": "code",
   "execution_count": 88,
   "metadata": {},
   "outputs": [
    {
     "name": "stderr",
     "output_type": "stream",
     "text": [
      "/home/mle-user/mle-project/mle-mlflow/mle-project-sprint-2-v001/.venv_sprint_2/lib/python3.10/site-packages/mlflow/types/utils.py:394: UserWarning: Hint: Inferred schema contains integer column(s). Integer columns in Python cannot represent missing values. If your input data contains missing values at inference time, it will be encoded as floats and will cause a schema enforcement error. The best way to avoid this problem is to infer the model schema based on a realistic data sample (training dataset) that includes missing values. Alternatively, you can declare integer columns as doubles (float64) whenever these columns may have missing values. See `Handling Integers With Missing Values <https://www.mlflow.org/docs/latest/models.html#handling-integers-with-missing-values>`_ for more details.\n",
      "  warnings.warn(\n",
      "Registered model 'model_sprint_2' already exists. Creating a new version of this model...\n",
      "2024/04/26 09:36:45 INFO mlflow.store.model_registry.abstract_store: Waiting up to 60 seconds for model version to finish creation. Model name: model_sprint_2, version 4\n"
     ]
    },
    {
     "name": "stdout",
     "output_type": "stream",
     "text": [
      "CPU times: user 1.14 s, sys: 24 ms, total: 1.16 s\n",
      "Wall time: 1.52 s\n"
     ]
    },
    {
     "name": "stderr",
     "output_type": "stream",
     "text": [
      "Created version '4' of model 'model_sprint_2'.\n"
     ]
    }
   ],
   "source": []
  },
  {
   "cell_type": "code",
   "execution_count": 89,
   "metadata": {},
   "outputs": [
    {
     "name": "stdout",
     "output_type": "stream",
     "text": [
      "Experiment \"Спринт 3/9: 2 спринт → Тема 5/5: Проект\" stage: active\n",
      "Run \"ETL\", id=97e36a4c008244f594b8213adc656d15 status: FINISHED\n"
     ]
    }
   ],
   "source": []
  }
 ],
 "metadata": {
  "kernelspec": {
   "display_name": ".venv_mle_mlflow",
   "language": "python",
   "name": "python3"
  },
  "language_info": {
   "codemirror_mode": {
    "name": "ipython",
    "version": 3
   },
   "file_extension": ".py",
   "mimetype": "text/x-python",
   "name": "python",
   "nbconvert_exporter": "python",
   "pygments_lexer": "ipython3",
   "version": "3.10.12"
  }
 },
 "nbformat": 4,
 "nbformat_minor": 2
}
